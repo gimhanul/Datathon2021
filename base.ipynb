{
  "cells": [
    {
      "cell_type": "code",
      "source": [
        "# 구글 드라이브 마운트\n",
        "from google.colab import drive\n",
        "drive.mount('/content/drive')"
      ],
      "metadata": {
        "colab": {
          "base_uri": "https://localhost:8080/"
        },
        "id": "HAwfr3uI7vMH",
        "outputId": "39a7e9f8-22b3-497a-ca4f-0f8e0da34683"
      },
      "execution_count": null,
      "outputs": [
        {
          "output_type": "stream",
          "name": "stdout",
          "text": [
            "Mounted at /content/drive\n"
          ]
        }
      ]
    },
    {
      "cell_type": "code",
      "execution_count": 234,
      "metadata": {
        "id": "Wd-79ZBm1fNe"
      },
      "outputs": [],
      "source": [
        "# 테이블 형식의 데이터를 처리하는 pandas 라이브러리를 임포트\n",
        "import pandas as pd"
      ]
    },
    {
      "cell_type": "code",
      "execution_count": 508,
      "metadata": {
        "id": "zddi1k0a1fNh",
        "outputId": "36d7fde1-13d4-4bef-ffdf-f78a450e82f8",
        "colab": {
          "base_uri": "https://localhost:8080/"
        }
      },
      "outputs": [
        {
          "output_type": "stream",
          "name": "stdout",
          "text": [
            "train shape:  (9375, 10)\n",
            "test shape:  (4018, 9)\n",
            "<class 'pandas.core.frame.DataFrame'>\n",
            "RangeIndex: 9375 entries, 0 to 9374\n",
            "Data columns (total 10 columns):\n",
            " #   Column                   Non-Null Count  Dtype  \n",
            "---  ------                   --------------  -----  \n",
            " 0   age                      9375 non-null   float64\n",
            " 1   gender                   9375 non-null   object \n",
            " 2   height_cm                9375 non-null   float64\n",
            " 3   diastolic                9375 non-null   float64\n",
            " 4   systolic                 9375 non-null   float64\n",
            " 5   gripForce                9375 non-null   float64\n",
            " 6   sit and bend forward_cm  9375 non-null   float64\n",
            " 7   sit-ups counts           9375 non-null   float64\n",
            " 8   broad jump_cm            9375 non-null   float64\n",
            " 9   body fat_%               9375 non-null   float64\n",
            "dtypes: float64(9), object(1)\n",
            "memory usage: 732.5+ KB\n"
          ]
        }
      ],
      "source": [
        "# train.csv, test.csv 파일을 DataFrame 형태로 읽어옵니다.\n",
        "train_df = pd.read_csv('/content/drive/MyDrive/datathon/dataset/train.csv')\n",
        "test_df = pd.read_csv('/content/drive/MyDrive/datathon/dataset/test.csv')\n",
        "print('train shape: ', train_df.shape)\n",
        "print('test shape: ', test_df.shape)\n",
        "train_df.info()"
      ]
    },
    {
      "cell_type": "code",
      "execution_count": 509,
      "metadata": {
        "id": "QBghmW2Q1fNj"
      },
      "outputs": [],
      "source": [
        "# train_df에서 체지방율 열을 pop 하여 y_train에 저장합니다.\n",
        "y_train = train_df.pop('body fat_%')"
      ]
    },
    {
      "cell_type": "code",
      "execution_count": 510,
      "metadata": {
        "id": "daYped2S1fNj"
      },
      "outputs": [],
      "source": [
        "# 베이스라인 코드에서는 성별(카테고리 데이터)을 제외하고 수치 데이터만 활용해 봅니다.\n",
        "# 학습 및 평가 셋에 각각 성별(gender)을 제거해줍니다.\n",
        "train_df['gender'] = train_df['gender'].map({'M':0, 'F':1})\n",
        "test_df['gender'] = test_df['gender'].map({'M':0, 'F':1})\n",
        "\n",
        "#정규화를 위해서 gender field 분리\n",
        "train_gtemp = train_df.pop('gender')\n",
        "test_gtemp = test_df.pop('gender')\n"
      ]
    },
    {
      "cell_type": "code",
      "source": [
        "# 8개 컬럼의 수치 데이터를 정규화 하여 학습 가능한 형태로 재가공 합니다.\n",
        "# 다른 정규화 방식을 찾아서 적용해보고 정규화 방식에 따라 결과가 어떻게 달라지는지 확인해봅니다.\n",
        "from sklearn.preprocessing import MinMaxScaler \n",
        "\n",
        "# 학습 및 평가 데이터를 DataFrame 형태로 입력받아 정규화된 데이터로 변환하는 함수 \n",
        "def scale(x_train, x_test):\n",
        "    columns = x_train.columns\n",
        "\n",
        "    scaler = MinMaxScaler()\n",
        "\n",
        "    # 학습 데이터의 age ~ broad jump_cm 열에 해당하는 값을 가져와 피팅 시킵니다.\n",
        "    scaler.fit(x_train)\n",
        "\n",
        "    # 피팅된 scaler를 기준으로 학습데이터를 정규화합니다.\n",
        "    x_train = scaler.transform(x_train)\n",
        "    # 평가 데이터도 마찬가지로 학습 데이터로 피팅된 scaler를 기준으로 정규화를 진행합니다.\n",
        "    x_test = scaler.transform(x_test)\n",
        "\n",
        "    # DataFrame 형태로 변환하여 반환합니다.\n",
        "    x_train = pd.DataFrame(columns=columns, data=x_train)\n",
        "    x_test = pd.DataFrame(columns=columns, data=x_test)\n",
        "\n",
        "    return x_train, x_test\n",
        "\n",
        "# 학습 데이터, 평가 데이터를 정의한 scale 함수에 전달하여 정규화된 학습 및 평가 데이터를 x_train, x_test에 저장합니다.\n",
        "x_train, x_test = scale(train_df, test_df)"
      ],
      "metadata": {
        "id": "6R2xw85R4zMb"
      },
      "execution_count": 511,
      "outputs": []
    },
    {
      "cell_type": "code",
      "source": [
        "x_train['gender'] = train_gtemp\n",
        "x_test['gender'] = test_gtemp\n",
        "\n",
        "x_train['gender'] = x_train['gender'].astype('bool')\n",
        "x_test['gender'] = x_test['gender'].astype('bool')"
      ],
      "metadata": {
        "id": "tF6rHRD9wC3G"
      },
      "execution_count": 512,
      "outputs": []
    },
    {
      "cell_type": "code",
      "execution_count": 513,
      "metadata": {
        "id": "rmhnx8Rh1fNn",
        "colab": {
          "base_uri": "https://localhost:8080/"
        },
        "outputId": "7c49dd4b-632e-4847-c654-32916cec92d1"
      },
      "outputs": [
        {
          "output_type": "stream",
          "name": "stdout",
          "text": [
            "(7500, 9) (7500,)\n",
            "(1875, 9) (1875,)\n"
          ]
        }
      ],
      "source": [
        "# 학습을 수행하기 전에 모델 학습이 제대로 진행되었는지 확인하기 위해 검증셋을 분리해 놓습니다.\n",
        "# 검증셋은 학습에 사용하지 않고 모델을 평가하기 위해 사용됩니다.\n",
        "from sklearn.model_selection import train_test_split\n",
        "x_train, x_valid, y_train, y_valid = train_test_split(x_train, y_train, test_size=0.2, random_state=42)\n",
        "\n",
        "print(x_train.shape, y_train.shape)\n",
        "print(x_valid.shape, y_valid.shape)"
      ]
    },
    {
      "cell_type": "code",
      "source": [
        "#모델 추가\n",
        "from sklearn.linear_model import LinearRegression\n",
        "from sklearn import svm\n",
        "from sklearn.ensemble import RandomForestRegressor\n",
        "from xgboost import XGBRegressor"
      ],
      "metadata": {
        "id": "7S3JhvAj_kH2"
      },
      "execution_count": 518,
      "outputs": []
    },
    {
      "cell_type": "code",
      "source": [
        "#모델 객체 생성\n",
        "model_dic = {\n",
        "    \"Linear\" : LinearRegression(),\n",
        "    \"SVM\" : svm.SVR(kernel='rbf', C = 6.25, gamma=1.1),\n",
        "    \"RandomForest\" : RandomForestRegressor(),\n",
        "    \"xgboost\" : XGBRegressor(),\n",
        "}\n",
        "\n",
        "#\"xgboost\" : XGBRegressor() "
      ],
      "metadata": {
        "id": "5_U8RaKb_qhP"
      },
      "execution_count": 629,
      "outputs": []
    },
    {
      "cell_type": "code",
      "source": [
        "model_p = {}\n",
        "\n",
        "for key in model_dic.keys() :\n",
        "  print(f'{key} : training')\n",
        "  model_dic[key].fit(x_train, y_train)\n",
        "\n",
        "  print(f'{key} : predict')\n",
        "  model_p[key] = model_dic[key].predict(x_valid)"
      ],
      "metadata": {
        "colab": {
          "base_uri": "https://localhost:8080/"
        },
        "id": "Q9kYs8Uh_zko",
        "outputId": "e15f8d66-0ded-4bb4-d767-ab2840bf4ebd"
      },
      "execution_count": 630,
      "outputs": [
        {
          "output_type": "stream",
          "name": "stdout",
          "text": [
            "Linear : training\n",
            "Linear : predict\n",
            "SVM : training\n",
            "SVM : predict\n",
            "RandomForest : training\n",
            "RandomForest : predict\n",
            "xgboost : training\n",
            "[07:25:53] WARNING: /workspace/src/objective/regression_obj.cu:152: reg:linear is now deprecated in favor of reg:squarederror.\n",
            "xgboost : predict\n"
          ]
        }
      ]
    },
    {
      "cell_type": "code",
      "source": [
        "#결과를 데이터프레임으로\n",
        "model_pdf = pd.DataFrame(model_p)\n",
        "model_pdf['valid'] = list(y_valid)"
      ],
      "metadata": {
        "id": "64TtzPmiAEk6"
      },
      "execution_count": 631,
      "outputs": []
    },
    {
      "cell_type": "markdown",
      "source": [
        "# 모델평가"
      ],
      "metadata": {
        "id": "9pgq6y-SDCdu"
      }
    },
    {
      "cell_type": "code",
      "source": [
        "from sklearn.metrics import mean_absolute_error\n",
        "import numpy as np"
      ],
      "metadata": {
        "id": "FamoEDN-DFQl"
      },
      "execution_count": 525,
      "outputs": []
    },
    {
      "cell_type": "code",
      "source": [
        "model_mae = {}\n",
        "\n",
        "for key in model_dic.keys() :\n",
        "  mae = mean_absolute_error(model_pdf['valid'], model_p[key])\n",
        "  model_mae[key] = mae"
      ],
      "metadata": {
        "id": "FQE-O6IoDH6Q"
      },
      "execution_count": 632,
      "outputs": []
    },
    {
      "cell_type": "code",
      "source": [
        "model_mae"
      ],
      "metadata": {
        "colab": {
          "base_uri": "https://localhost:8080/"
        },
        "id": "XsdRQO8bpVVa",
        "outputId": "de0fd295-bafb-47e5-fdbe-d386ae2069d0"
      },
      "execution_count": 633,
      "outputs": [
        {
          "output_type": "execute_result",
          "data": {
            "text/plain": [
              "{'Linear': 3.82428666325485,\n",
              " 'RandomForest': 3.8441143640906668,\n",
              " 'SVM': 3.7405188124252833,\n",
              " 'xgboost': 3.777044651039876}"
            ]
          },
          "metadata": {},
          "execution_count": 633
        }
      ]
    },
    {
      "cell_type": "markdown",
      "metadata": {
        "id": "8AsITpJj1fNp"
      },
      "source": [
        "# 평가 데이터 예측 및 제출 파일 생성"
      ]
    },
    {
      "cell_type": "code",
      "source": [
        "# 검증셋 예측과 동일하게 평가 데이터 예측을 진행합니다.\n",
        "preds = model_dic['SVM'].predict(x_test)\n",
        "print(preds.shape)"
      ],
      "metadata": {
        "colab": {
          "base_uri": "https://localhost:8080/"
        },
        "id": "r4o226C_leOm",
        "outputId": "41d39140-3eb2-42c0-f499-fc551d3f2d9e"
      },
      "execution_count": 635,
      "outputs": [
        {
          "output_type": "stream",
          "name": "stdout",
          "text": [
            "(4018,)\n"
          ]
        }
      ]
    },
    {
      "cell_type": "code",
      "source": [
        "# 제출파일 예시 파일을 읽어와 predict 열에 평가셋 예측값을 기록하여 저장합니다.\n",
        "submit = pd.read_csv('/content/drive/MyDrive/datathon/dataset/submit_sample.csv')\n",
        "submit['predict'] = preds\n",
        "\n",
        "# 제출 파일 확인\n",
        "submit"
      ],
      "metadata": {
        "id": "EXMYo0vrHLJi",
        "colab": {
          "base_uri": "https://localhost:8080/",
          "height": 423
        },
        "outputId": "a9d80711-42b0-48f2-fcff-2c911c8de457"
      },
      "execution_count": 636,
      "outputs": [
        {
          "output_type": "execute_result",
          "data": {
            "text/html": [
              "\n",
              "  <div id=\"df-990fc10b-8040-468a-9fd2-a55cfcd8b454\">\n",
              "    <div class=\"colab-df-container\">\n",
              "      <div>\n",
              "<style scoped>\n",
              "    .dataframe tbody tr th:only-of-type {\n",
              "        vertical-align: middle;\n",
              "    }\n",
              "\n",
              "    .dataframe tbody tr th {\n",
              "        vertical-align: top;\n",
              "    }\n",
              "\n",
              "    .dataframe thead th {\n",
              "        text-align: right;\n",
              "    }\n",
              "</style>\n",
              "<table border=\"1\" class=\"dataframe\">\n",
              "  <thead>\n",
              "    <tr style=\"text-align: right;\">\n",
              "      <th></th>\n",
              "      <th>predict</th>\n",
              "    </tr>\n",
              "  </thead>\n",
              "  <tbody>\n",
              "    <tr>\n",
              "      <th>0</th>\n",
              "      <td>23.320110</td>\n",
              "    </tr>\n",
              "    <tr>\n",
              "      <th>1</th>\n",
              "      <td>22.345531</td>\n",
              "    </tr>\n",
              "    <tr>\n",
              "      <th>2</th>\n",
              "      <td>16.025266</td>\n",
              "    </tr>\n",
              "    <tr>\n",
              "      <th>3</th>\n",
              "      <td>19.500507</td>\n",
              "    </tr>\n",
              "    <tr>\n",
              "      <th>4</th>\n",
              "      <td>36.720476</td>\n",
              "    </tr>\n",
              "    <tr>\n",
              "      <th>...</th>\n",
              "      <td>...</td>\n",
              "    </tr>\n",
              "    <tr>\n",
              "      <th>4013</th>\n",
              "      <td>19.987955</td>\n",
              "    </tr>\n",
              "    <tr>\n",
              "      <th>4014</th>\n",
              "      <td>18.787552</td>\n",
              "    </tr>\n",
              "    <tr>\n",
              "      <th>4015</th>\n",
              "      <td>26.750057</td>\n",
              "    </tr>\n",
              "    <tr>\n",
              "      <th>4016</th>\n",
              "      <td>17.904372</td>\n",
              "    </tr>\n",
              "    <tr>\n",
              "      <th>4017</th>\n",
              "      <td>14.168717</td>\n",
              "    </tr>\n",
              "  </tbody>\n",
              "</table>\n",
              "<p>4018 rows × 1 columns</p>\n",
              "</div>\n",
              "      <button class=\"colab-df-convert\" onclick=\"convertToInteractive('df-990fc10b-8040-468a-9fd2-a55cfcd8b454')\"\n",
              "              title=\"Convert this dataframe to an interactive table.\"\n",
              "              style=\"display:none;\">\n",
              "        \n",
              "  <svg xmlns=\"http://www.w3.org/2000/svg\" height=\"24px\"viewBox=\"0 0 24 24\"\n",
              "       width=\"24px\">\n",
              "    <path d=\"M0 0h24v24H0V0z\" fill=\"none\"/>\n",
              "    <path d=\"M18.56 5.44l.94 2.06.94-2.06 2.06-.94-2.06-.94-.94-2.06-.94 2.06-2.06.94zm-11 1L8.5 8.5l.94-2.06 2.06-.94-2.06-.94L8.5 2.5l-.94 2.06-2.06.94zm10 10l.94 2.06.94-2.06 2.06-.94-2.06-.94-.94-2.06-.94 2.06-2.06.94z\"/><path d=\"M17.41 7.96l-1.37-1.37c-.4-.4-.92-.59-1.43-.59-.52 0-1.04.2-1.43.59L10.3 9.45l-7.72 7.72c-.78.78-.78 2.05 0 2.83L4 21.41c.39.39.9.59 1.41.59.51 0 1.02-.2 1.41-.59l7.78-7.78 2.81-2.81c.8-.78.8-2.07 0-2.86zM5.41 20L4 18.59l7.72-7.72 1.47 1.35L5.41 20z\"/>\n",
              "  </svg>\n",
              "      </button>\n",
              "      \n",
              "  <style>\n",
              "    .colab-df-container {\n",
              "      display:flex;\n",
              "      flex-wrap:wrap;\n",
              "      gap: 12px;\n",
              "    }\n",
              "\n",
              "    .colab-df-convert {\n",
              "      background-color: #E8F0FE;\n",
              "      border: none;\n",
              "      border-radius: 50%;\n",
              "      cursor: pointer;\n",
              "      display: none;\n",
              "      fill: #1967D2;\n",
              "      height: 32px;\n",
              "      padding: 0 0 0 0;\n",
              "      width: 32px;\n",
              "    }\n",
              "\n",
              "    .colab-df-convert:hover {\n",
              "      background-color: #E2EBFA;\n",
              "      box-shadow: 0px 1px 2px rgba(60, 64, 67, 0.3), 0px 1px 3px 1px rgba(60, 64, 67, 0.15);\n",
              "      fill: #174EA6;\n",
              "    }\n",
              "\n",
              "    [theme=dark] .colab-df-convert {\n",
              "      background-color: #3B4455;\n",
              "      fill: #D2E3FC;\n",
              "    }\n",
              "\n",
              "    [theme=dark] .colab-df-convert:hover {\n",
              "      background-color: #434B5C;\n",
              "      box-shadow: 0px 1px 3px 1px rgba(0, 0, 0, 0.15);\n",
              "      filter: drop-shadow(0px 1px 2px rgba(0, 0, 0, 0.3));\n",
              "      fill: #FFFFFF;\n",
              "    }\n",
              "  </style>\n",
              "\n",
              "      <script>\n",
              "        const buttonEl =\n",
              "          document.querySelector('#df-990fc10b-8040-468a-9fd2-a55cfcd8b454 button.colab-df-convert');\n",
              "        buttonEl.style.display =\n",
              "          google.colab.kernel.accessAllowed ? 'block' : 'none';\n",
              "\n",
              "        async function convertToInteractive(key) {\n",
              "          const element = document.querySelector('#df-990fc10b-8040-468a-9fd2-a55cfcd8b454');\n",
              "          const dataTable =\n",
              "            await google.colab.kernel.invokeFunction('convertToInteractive',\n",
              "                                                     [key], {});\n",
              "          if (!dataTable) return;\n",
              "\n",
              "          const docLinkHtml = 'Like what you see? Visit the ' +\n",
              "            '<a target=\"_blank\" href=https://colab.research.google.com/notebooks/data_table.ipynb>data table notebook</a>'\n",
              "            + ' to learn more about interactive tables.';\n",
              "          element.innerHTML = '';\n",
              "          dataTable['output_type'] = 'display_data';\n",
              "          await google.colab.output.renderOutput(dataTable, element);\n",
              "          const docLink = document.createElement('div');\n",
              "          docLink.innerHTML = docLinkHtml;\n",
              "          element.appendChild(docLink);\n",
              "        }\n",
              "      </script>\n",
              "    </div>\n",
              "  </div>\n",
              "  "
            ],
            "text/plain": [
              "        predict\n",
              "0     23.320110\n",
              "1     22.345531\n",
              "2     16.025266\n",
              "3     19.500507\n",
              "4     36.720476\n",
              "...         ...\n",
              "4013  19.987955\n",
              "4014  18.787552\n",
              "4015  26.750057\n",
              "4016  17.904372\n",
              "4017  14.168717\n",
              "\n",
              "[4018 rows x 1 columns]"
            ]
          },
          "metadata": {},
          "execution_count": 636
        }
      ]
    },
    {
      "cell_type": "code",
      "source": [
        "# 저장\n",
        "submit.to_csv('/content/drive/MyDrive/datathon/dataset/submit.csv', index=False)"
      ],
      "metadata": {
        "id": "4eQopM9XHZIm"
      },
      "execution_count": 637,
      "outputs": []
    }
  ],
  "metadata": {
    "interpreter": {
      "hash": "3fd53631438cd00f227f2cd5f7b366075835ee7e0e19ede0f94a69a7dc965020"
    },
    "kernelspec": {
      "display_name": "Python 3.8.10 64-bit ('da-env': conda)",
      "language": "python",
      "name": "python3"
    },
    "language_info": {
      "codemirror_mode": {
        "name": "ipython",
        "version": 3
      },
      "file_extension": ".py",
      "mimetype": "text/x-python",
      "name": "python",
      "nbconvert_exporter": "python",
      "pygments_lexer": "ipython3",
      "version": "3.8.10"
    },
    "orig_nbformat": 4,
    "colab": {
      "name": "1958_baseline_sklearn.ipynb의 사본",
      "provenance": [],
      "collapsed_sections": []
    }
  },
  "nbformat": 4,
  "nbformat_minor": 0
}