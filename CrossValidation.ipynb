{
  "nbformat": 4,
  "nbformat_minor": 0,
  "metadata": {
    "colab": {
      "name": "CrossValidation.ipynb",
      "provenance": [],
      "collapsed_sections": []
    },
    "kernelspec": {
      "name": "python3",
      "display_name": "Python 3"
    },
    "language_info": {
      "name": "python"
    }
  },
  "cells": [
    {
      "cell_type": "code",
      "source": [
        "# 구글 드라이브 마운트\n",
        "from google.colab import drive\n",
        "drive.mount('/content/drive')"
      ],
      "metadata": {
        "colab": {
          "base_uri": "https://localhost:8080/"
        },
        "id": "HAwfr3uI7vMH",
        "outputId": "7cfeb30a-2874-4f57-9ea9-c53b59f2bf69"
      },
      "execution_count": 1,
      "outputs": [
        {
          "output_type": "stream",
          "name": "stdout",
          "text": [
            "Mounted at /content/drive\n"
          ]
        }
      ]
    },
    {
      "cell_type": "code",
      "execution_count": 47,
      "metadata": {
        "id": "Wd-79ZBm1fNe"
      },
      "outputs": [],
      "source": [
        "# 테이블 형식의 데이터를 처리하는 pandas 라이브러리를 임포트\n",
        "import pandas as pd"
      ]
    },
    {
      "cell_type": "code",
      "execution_count": 48,
      "metadata": {
        "id": "zddi1k0a1fNh",
        "outputId": "e12284bc-648d-4421-d7f9-a65273a8e6c7",
        "colab": {
          "base_uri": "https://localhost:8080/"
        }
      },
      "outputs": [
        {
          "output_type": "stream",
          "name": "stdout",
          "text": [
            "train shape:  (9375, 10)\n",
            "test shape:  (4018, 9)\n"
          ]
        }
      ],
      "source": [
        "# train.csv, test.csv 파일을 DataFrame 형태로 읽어옵니다.\n",
        "train_df = pd.read_csv('/content/drive/MyDrive/datathon/dataset/train.csv')\n",
        "test_df = pd.read_csv('/content/drive/MyDrive/datathon/dataset/test.csv')\n",
        "print('train shape: ', train_df.shape)\n",
        "print('test shape: ', test_df.shape)"
      ]
    },
    {
      "cell_type": "code",
      "execution_count": 49,
      "metadata": {
        "id": "QBghmW2Q1fNj"
      },
      "outputs": [],
      "source": [
        "# train_df에서 체지방율 열을 pop 하여 y_train에 저장합니다.\n",
        "y_train = train_df.pop('body fat_%')"
      ]
    },
    {
      "cell_type": "code",
      "execution_count": 50,
      "metadata": {
        "id": "daYped2S1fNj"
      },
      "outputs": [],
      "source": [
        "# 베이스라인 코드에서는 성별(카테고리 데이터)을 제외하고 수치 데이터만 활용해 봅니다.\n",
        "# 학습 및 평가 셋에 각각 성별(gender)을 제거해줍니다.\n",
        "train_df['gender'] = train_df['gender'].map({'M':0, 'F':1})\n",
        "test_df['gender'] = test_df['gender'].map({'M':0, 'F':1})\n",
        "\n",
        "#정규화를 위해서 gender field 분리\n",
        "train_gtemp = train_df.pop('gender')\n",
        "test_gtemp = test_df.pop('gender')\n"
      ]
    },
    {
      "cell_type": "code",
      "source": [
        "# 8개 컬럼의 수치 데이터를 정규화 하여 학습 가능한 형태로 재가공 합니다.\n",
        "# 다른 정규화 방식을 찾아서 적용해보고 정규화 방식에 따라 결과가 어떻게 달라지는지 확인해봅니다.\n",
        "from sklearn.preprocessing import MinMaxScaler \n",
        "\n",
        "# 학습 및 평가 데이터를 DataFrame 형태로 입력받아 정규화된 데이터로 변환하는 함수 \n",
        "def scale(x_train, x_test):\n",
        "    columns = x_train.columns\n",
        "\n",
        "    scaler = MinMaxScaler()\n",
        "\n",
        "    # 학습 데이터의 age ~ broad jump_cm 열에 해당하는 값을 가져와 피팅 시킵니다.\n",
        "    scaler.fit(x_train)\n",
        "\n",
        "    # 피팅된 scaler를 기준으로 학습데이터를 정규화합니다.\n",
        "    x_train = scaler.transform(x_train)\n",
        "    # 평가 데이터도 마찬가지로 학습 데이터로 피팅된 scaler를 기준으로 정규화를 진행합니다.\n",
        "    x_test = scaler.transform(x_test)\n",
        "\n",
        "    # DataFrame 형태로 변환하여 반환합니다.\n",
        "    x_train = pd.DataFrame(columns=columns, data=x_train)\n",
        "    x_test = pd.DataFrame(columns=columns, data=x_test)\n",
        "\n",
        "    return x_train, x_test\n",
        "\n",
        "# 학습 데이터, 평가 데이터를 정의한 scale 함수에 전달하여 정규화된 학습 및 평가 데이터를 x_train, x_test에 저장합니다.\n",
        "x_train, x_test = scale(train_df, test_df)"
      ],
      "metadata": {
        "id": "6R2xw85R4zMb"
      },
      "execution_count": 51,
      "outputs": []
    },
    {
      "cell_type": "code",
      "source": [
        "x_train['gender'] = train_gtemp\n",
        "x_test['gender'] = test_gtemp\n",
        "\n",
        "x_train['gender'] = x_train['gender'].astype('bool')\n",
        "x_test['gender'] = x_test['gender'].astype('bool')"
      ],
      "metadata": {
        "id": "tF6rHRD9wC3G"
      },
      "execution_count": 52,
      "outputs": []
    },
    {
      "cell_type": "code",
      "source": [
        "X_train = x_train\n",
        "Y_train = y_train"
      ],
      "metadata": {
        "id": "jU6K-DmfoqLJ"
      },
      "execution_count": 53,
      "outputs": []
    },
    {
      "cell_type": "code",
      "execution_count": 54,
      "metadata": {
        "id": "o90lfVw6ZLH5"
      },
      "outputs": [],
      "source": [
        "from sklearn import svm\n",
        "SVM = svm.SVR(kernel='rbf', C = 6.25, gamma=1.1)"
      ]
    },
    {
      "cell_type": "code",
      "source": [
        "import lightgbm as lgb\n",
        "from sklearn.model_selection import KFold\n",
        "\n",
        "submit = pd.read_csv('/content/drive/MyDrive/datathon/dataset/submit_sample.csv')\n",
        "\n",
        "k_fold = KFold(n_splits=5, shuffle=True)\n",
        "\n",
        "lgb_models = []\n",
        "\n",
        "for train_idx, val_idx in k_fold.split(X_train):\n",
        "    x_train, y_train = X_train.iloc[train_idx], Y_train.iloc[train_idx]\n",
        "    x_val, y_val = X_train.iloc[val_idx], Y_train.iloc[val_idx]\n",
        "    print(x_train.info())\n",
        "    print(y_train.head())\n",
        "\n",
        "    d_train = lgb.Dataset(x_train, y_train)\n",
        "    d_val = lgb.Dataset(x_val, y_val)\n",
        "    \n",
        "    lgb_models.append(SVM.fit(x_train, y_train))\n",
        "\n",
        "preds = []\n",
        "for model in lgb_models:\n",
        "    preds.append(model.predict(x_test))\n",
        "len(preds)\n",
        "\n",
        "pred = (preds[0]+preds[1]+preds[2]+preds[3]+preds[4])/5\n",
        "submit['predict'] = pred\n",
        "\n",
        "submit.head()\n",
        "submit.to_csv('/content/drive/MyDrive/datathon/dataset/submit.csv', index=False)\n",
        "\n"
      ],
      "metadata": {
        "colab": {
          "base_uri": "https://localhost:8080/"
        },
        "id": "iK4NRIVQkEYw",
        "outputId": "ee560b02-e862-4f73-8c51-c74b541e47a4"
      },
      "execution_count": 57,
      "outputs": [
        {
          "output_type": "stream",
          "name": "stdout",
          "text": [
            "<class 'pandas.core.frame.DataFrame'>\n",
            "Int64Index: 7500 entries, 0 to 9374\n",
            "Data columns (total 9 columns):\n",
            " #   Column                   Non-Null Count  Dtype  \n",
            "---  ------                   --------------  -----  \n",
            " 0   age                      7500 non-null   float64\n",
            " 1   height_cm                7500 non-null   float64\n",
            " 2   diastolic                7500 non-null   float64\n",
            " 3   systolic                 7500 non-null   float64\n",
            " 4   gripForce                7500 non-null   float64\n",
            " 5   sit and bend forward_cm  7500 non-null   float64\n",
            " 6   sit-ups counts           7500 non-null   float64\n",
            " 7   broad jump_cm            7500 non-null   float64\n",
            " 8   gender                   7500 non-null   bool   \n",
            "dtypes: bool(1), float64(8)\n",
            "memory usage: 534.7 KB\n",
            "None\n",
            "0    12.7\n",
            "3    33.0\n",
            "4    28.3\n",
            "5    16.3\n",
            "6    29.5\n",
            "Name: body fat_%, dtype: float64\n",
            "<class 'pandas.core.frame.DataFrame'>\n",
            "Int64Index: 7500 entries, 0 to 9374\n",
            "Data columns (total 9 columns):\n",
            " #   Column                   Non-Null Count  Dtype  \n",
            "---  ------                   --------------  -----  \n",
            " 0   age                      7500 non-null   float64\n",
            " 1   height_cm                7500 non-null   float64\n",
            " 2   diastolic                7500 non-null   float64\n",
            " 3   systolic                 7500 non-null   float64\n",
            " 4   gripForce                7500 non-null   float64\n",
            " 5   sit and bend forward_cm  7500 non-null   float64\n",
            " 6   sit-ups counts           7500 non-null   float64\n",
            " 7   broad jump_cm            7500 non-null   float64\n",
            " 8   gender                   7500 non-null   bool   \n",
            "dtypes: bool(1), float64(8)\n",
            "memory usage: 534.7 KB\n",
            "None\n",
            "0    12.7\n",
            "1     3.5\n",
            "2    25.9\n",
            "3    33.0\n",
            "4    28.3\n",
            "Name: body fat_%, dtype: float64\n",
            "<class 'pandas.core.frame.DataFrame'>\n",
            "Int64Index: 7500 entries, 0 to 9373\n",
            "Data columns (total 9 columns):\n",
            " #   Column                   Non-Null Count  Dtype  \n",
            "---  ------                   --------------  -----  \n",
            " 0   age                      7500 non-null   float64\n",
            " 1   height_cm                7500 non-null   float64\n",
            " 2   diastolic                7500 non-null   float64\n",
            " 3   systolic                 7500 non-null   float64\n",
            " 4   gripForce                7500 non-null   float64\n",
            " 5   sit and bend forward_cm  7500 non-null   float64\n",
            " 6   sit-ups counts           7500 non-null   float64\n",
            " 7   broad jump_cm            7500 non-null   float64\n",
            " 8   gender                   7500 non-null   bool   \n",
            "dtypes: bool(1), float64(8)\n",
            "memory usage: 534.7 KB\n",
            "None\n",
            "0    12.7\n",
            "1     3.5\n",
            "2    25.9\n",
            "3    33.0\n",
            "4    28.3\n",
            "Name: body fat_%, dtype: float64\n",
            "<class 'pandas.core.frame.DataFrame'>\n",
            "Int64Index: 7500 entries, 0 to 9374\n",
            "Data columns (total 9 columns):\n",
            " #   Column                   Non-Null Count  Dtype  \n",
            "---  ------                   --------------  -----  \n",
            " 0   age                      7500 non-null   float64\n",
            " 1   height_cm                7500 non-null   float64\n",
            " 2   diastolic                7500 non-null   float64\n",
            " 3   systolic                 7500 non-null   float64\n",
            " 4   gripForce                7500 non-null   float64\n",
            " 5   sit and bend forward_cm  7500 non-null   float64\n",
            " 6   sit-ups counts           7500 non-null   float64\n",
            " 7   broad jump_cm            7500 non-null   float64\n",
            " 8   gender                   7500 non-null   bool   \n",
            "dtypes: bool(1), float64(8)\n",
            "memory usage: 534.7 KB\n",
            "None\n",
            "0    12.7\n",
            "1     3.5\n",
            "2    25.9\n",
            "5    16.3\n",
            "7    38.0\n",
            "Name: body fat_%, dtype: float64\n",
            "<class 'pandas.core.frame.DataFrame'>\n",
            "Int64Index: 7500 entries, 1 to 9374\n",
            "Data columns (total 9 columns):\n",
            " #   Column                   Non-Null Count  Dtype  \n",
            "---  ------                   --------------  -----  \n",
            " 0   age                      7500 non-null   float64\n",
            " 1   height_cm                7500 non-null   float64\n",
            " 2   diastolic                7500 non-null   float64\n",
            " 3   systolic                 7500 non-null   float64\n",
            " 4   gripForce                7500 non-null   float64\n",
            " 5   sit and bend forward_cm  7500 non-null   float64\n",
            " 6   sit-ups counts           7500 non-null   float64\n",
            " 7   broad jump_cm            7500 non-null   float64\n",
            " 8   gender                   7500 non-null   bool   \n",
            "dtypes: bool(1), float64(8)\n",
            "memory usage: 534.7 KB\n",
            "None\n",
            "1     3.5\n",
            "2    25.9\n",
            "3    33.0\n",
            "4    28.3\n",
            "6    29.5\n",
            "Name: body fat_%, dtype: float64\n"
          ]
        }
      ]
    },
    {
      "cell_type": "markdown",
      "source": [
        "# 모델평가"
      ],
      "metadata": {
        "id": "9pgq6y-SDCdu"
      }
    },
    {
      "cell_type": "code",
      "source": [
        "from sklearn.metrics import mean_absolute_error\n",
        "import numpy as np"
      ],
      "metadata": {
        "id": "FamoEDN-DFQl"
      },
      "execution_count": 46,
      "outputs": []
    },
    {
      "cell_type": "code",
      "source": [
        "model_mae = {}\n",
        "\n",
        "mae = mean_absolute_error(model_pdf['valid'], model_p[\"SVM\"])\n",
        "model_mae[\"SVM\"] = mae\n",
        "model_mae"
      ],
      "metadata": {
        "id": "FQE-O6IoDH6Q"
      },
      "execution_count": null,
      "outputs": []
    }
  ]
}